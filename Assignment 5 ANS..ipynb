{
 "cells": [
  {
   "cell_type": "code",
   "execution_count": null,
   "id": "41704a6c-5122-49dc-8c87-3cb2ccad8988",
   "metadata": {},
   "outputs": [],
   "source": [
    "Task 1 :Write a Python program to create a calculator class. Include methods for basic arithmetic operations"
   ]
  },
  {
   "cell_type": "code",
   "execution_count": 4,
   "id": "2e6d5f21-6ff3-4384-bae6-15689743cb08",
   "metadata": {},
   "outputs": [
    {
     "name": "stdin",
     "output_type": "stream",
     "text": [
      "enter first number 4\n",
      "enter second number 5\n"
     ]
    },
    {
     "name": "stdout",
     "output_type": "stream",
     "text": [
      "\n",
      "        Please select one of the following: \n",
      "            =======================================\n",
      "            + for addition\n",
      "            - for subtraction \n",
      "            * for multiplication \n",
      "            / for division\n",
      "            % for modulus\n",
      "            tr to find the area of a triangle\n",
      "            in to convert cm_to_inches \n",
      "            cm to convert inches_to_cm \n",
      "            0 to exit\n",
      "            ========================================\n",
      "            \n"
     ]
    },
    {
     "name": "stdin",
     "output_type": "stream",
     "text": [
      "enter the operation *\n"
     ]
    },
    {
     "name": "stdout",
     "output_type": "stream",
     "text": [
      "Muiltiplication ==> 20.0\n"
     ]
    }
   ],
   "source": [
    "class calc():\n",
    "    def __init__(self,a,b):\n",
    "        self.a=a\n",
    "        self.b=b\n",
    "    def add(self):\n",
    "        return self.a + self.b\n",
    "    def sub(self):\n",
    "        return self.a - self.b\n",
    "    def mult(self):\n",
    "        return self.a * self.b\n",
    "options = \"\"\"\n",
    "        Please select one of the following: \n",
    "            =======================================\n",
    "            + for addition\n",
    "            - for subtraction \n",
    "            * for multiplication \n",
    "            / for division\n",
    "            % for modulus\n",
    "            tr to find the area of a triangle\n",
    "            in to convert cm_to_inches \n",
    "            cm to convert inches_to_cm \n",
    "            0 to exit\n",
    "            ========================================\n",
    "            \"\"\"\n",
    "x=float(input(\"enter first number\"))\n",
    "y=float(input(\"enter second number\"))\n",
    "print (options)\n",
    "z=input(\"enter the operation\")\n",
    "ca = calc(x,y)\n",
    "if z==\"+\":\n",
    "    addition = ca.add()\n",
    "    print(\"Addition ==> {}\".format (addition))\n",
    "elif z== \"-\":\n",
    "    substraction = ca.sub()\n",
    "    print(\"Substraction ==> {}\".format (substraction))\n",
    "\n",
    "elif z == \"*\":\n",
    "    muiltiplication = ca.mult()\n",
    "    print(\"Muiltiplication ==> {}\".format (muiltiplication))\n",
    "\n"
   ]
  },
  {
   "cell_type": "code",
   "execution_count": null,
   "id": "eeec7db4-eafd-489f-948e-f966de716ecd",
   "metadata": {},
   "outputs": [],
   "source": [
    "Task 2: Rectangle class:\n",
    "1. Write a Rectangle class in Python language, allowing you to build a rectangle with length and width attributes.\n",
    "2. Create a Perimeter() method to calculate the perimeter of the rectangle and a Area() method to calculate the area of the rectangle.\n",
    "3. Create a method display() that display the length, width, perimeter and area of an object created using an instantiation on rectangle class.\n",
    "4. Create a Parallelepipede child class inheriting from the Rectangle class and with a height attribute and another Volume() method to calculate the volume of the Parallelepiped."
   ]
  },
  {
   "cell_type": "code",
   "execution_count": 5,
   "id": "d635b158-c993-4067-8dc7-e7e00ab6059c",
   "metadata": {},
   "outputs": [
    {
     "name": "stdout",
     "output_type": "stream",
     "text": [
      "Rectangle:\n",
      "Length: 5\n",
      "Width: 4\n",
      "Perimeter: 18\n",
      "Area: 20\n",
      "\n",
      "Parallelepiped:\n",
      "Length: 5\n",
      "Width: 4\n",
      "Perimeter: 18\n",
      "Area: 20\n",
      "Volume: 60\n"
     ]
    }
   ],
   "source": [
    "class Rectangle:\n",
    "    def __init__(self, length, width):\n",
    "        self.length = length\n",
    "        self.width = width\n",
    "    def perimeter(self):\n",
    "        return 2 * (self.length + self.width)\n",
    "    def area(self):\n",
    "        return self.length * self.width\n",
    "    def display(self):\n",
    "        print(\"Length:\", self.length)\n",
    "        print(\"Width:\", self.width)\n",
    "        print(\"Perimeter:\", self.perimeter())\n",
    "        print(\"Area:\", self.area())\n",
    "class Parallelepipede(Rectangle):\n",
    "    def __init__(self, length, width, height):\n",
    "        super().__init__(length, width)\n",
    "        self.height = height\n",
    "    def volume(self):\n",
    "        return self.length * self.width * self.height\n",
    "rectangle = Rectangle(5, 4)\n",
    "parallelepiped = Parallelepipede(5, 4, 3)\n",
    "print(\"Rectangle:\")\n",
    "rectangle.display()\n",
    "print(\"\\nParallelepiped:\")\n",
    "parallelepiped.display()\n",
    "print(\"Volume:\", parallelepiped.volume())"
   ]
  },
  {
   "cell_type": "code",
   "execution_count": null,
   "id": "fcee22ed-ecdf-4c90-b894-a5a9eacfff89",
   "metadata": {},
   "outputs": [],
   "source": [
    "Task 3: Person class and child Student class\n",
    "Create a Python class Person with attributes: name and age of type string.\n",
    "1. Create a display() method that displays the name and age of an object created via the Person class.\n",
    "2. Create a child class Student which inherits from the Person class and which also has a section attribute.\n",
    "3. Create a method displayStudent() that displays the name, age and section of an object created via the Student class.\n",
    "4. Create a student object via an instantiation on the Student class and then test the displayStudent method."
   ]
  },
  {
   "cell_type": "code",
   "execution_count": 7,
   "id": "c1ba8a13-0bb2-46d5-845c-465b2adfa489",
   "metadata": {},
   "outputs": [
    {
     "name": "stdout",
     "output_type": "stream",
     "text": [
      "Name: Abdelrahman\n",
      "Age: 20\n",
      "Section: 6\n"
     ]
    }
   ],
   "source": [
    "class Person:\n",
    "    def __init__(self, name, age):\n",
    "        self.name = name\n",
    "        self.age = age\n",
    "    def display(self):\n",
    "        print(\"Name:\", self.name)\n",
    "        print(\"Age:\", self.age)\n",
    "class Student(Person):\n",
    "    def __init__(self, name, age, section):\n",
    "        super().__init__(name, age)\n",
    "        self.section = section\n",
    "    def display_student(self):\n",
    "        print(\"Name:\", self.name)\n",
    "        print(\"Age:\", self.age)\n",
    "        print(\"Section:\", self.section)\n",
    "student = Student(\"Abdelrahman\", 20, \"6\")\n",
    "student.display_student()"
   ]
  },
  {
   "cell_type": "code",
   "execution_count": null,
   "id": "2b1aa508-474b-4f6e-8210-6fc0ee8e9e1a",
   "metadata": {},
   "outputs": [],
   "source": []
  }
 ],
 "metadata": {
  "kernelspec": {
   "display_name": "Python 3 (ipykernel)",
   "language": "python",
   "name": "python3"
  },
  "language_info": {
   "codemirror_mode": {
    "name": "ipython",
    "version": 3
   },
   "file_extension": ".py",
   "mimetype": "text/x-python",
   "name": "python",
   "nbconvert_exporter": "python",
   "pygments_lexer": "ipython3",
   "version": "3.11.7"
  }
 },
 "nbformat": 4,
 "nbformat_minor": 5
}
