{
 "cells": [
  {
   "cell_type": "markdown",
   "metadata": {
    "id": "Ui8LKXjlii3V"
   },
   "source": [
    "### 1) Write a program to print the maximum between two numbers. (one-line conditional statement)\n"
   ]
  },
  {
   "cell_type": "code",
   "execution_count": 79,
   "metadata": {},
   "outputs": [
    {
     "name": "stdin",
     "output_type": "stream",
     "text": [
      "enter first number 1\n",
      "enter second number 4\n"
     ]
    },
    {
     "name": "stdout",
     "output_type": "stream",
     "text": [
      "second number is max\n",
      "None\n"
     ]
    }
   ],
   "source": [
    "x=int(input(\"enter first number\"))\n",
    "y=int(input(\"enter second number\"))\n",
    "print((\"first number is max\") if x>y else(print(\"second number is max\")))"
   ]
  },
  {
   "cell_type": "markdown",
   "metadata": {
    "id": "xQB_yP4rirZS"
   },
   "source": [
    "### 2) Write a program to find the maximum between three numbers.\n"
   ]
  },
  {
   "cell_type": "code",
   "execution_count": 80,
   "metadata": {},
   "outputs": [
    {
     "name": "stdin",
     "output_type": "stream",
     "text": [
      "enter first number 1\n",
      "enter second number 4\n",
      "enter third number 6\n"
     ]
    },
    {
     "name": "stdout",
     "output_type": "stream",
     "text": [
      "third number is max\n"
     ]
    }
   ],
   "source": [
    "x=int(input(\"enter first number\"))\n",
    "y=int(input(\"enter second number\"))\n",
    "z=int(input(\"enter third number\"))\n",
    "if x>y and x>z:\n",
    "    print(\"first number is max\")\n",
    "elif y>x and y>z:\n",
    "    print(\"second number is max\")\n",
    "elif z>x and z>y:\n",
    "    print(\"third number is max\")    "
   ]
  },
  {
   "cell_type": "markdown",
   "metadata": {
    "id": "di3xEq8mjBRK"
   },
   "source": [
    "### 3) Write a program to check whether a number is negative, or positive (one-line conditional statement)\n"
   ]
  },
  {
   "cell_type": "code",
   "execution_count": 2,
   "metadata": {},
   "outputs": [
    {
     "name": "stdin",
     "output_type": "stream",
     "text": [
      "enter number 5\n"
     ]
    },
    {
     "name": "stdout",
     "output_type": "stream",
     "text": [
      "number is positive\n"
     ]
    }
   ],
   "source": [
    "x=int(input(\"enter number\"))\n",
    "print((\"number is positive\") if x>=0 else(print(\"number is negative\")))"
   ]
  },
  {
   "cell_type": "markdown",
   "metadata": {
    "id": "grc5Gk_RjFBe"
   },
   "source": [
    "### 4) Write a  program to check whether a number is even or odd  (one-line statement).\n"
   ]
  },
  {
   "cell_type": "code",
   "execution_count": 3,
   "metadata": {},
   "outputs": [
    {
     "name": "stdin",
     "output_type": "stream",
     "text": [
      "enter number 5\n"
     ]
    },
    {
     "name": "stdout",
     "output_type": "stream",
     "text": [
      "number is ood\n",
      "None\n"
     ]
    }
   ],
   "source": [
    "x=int(input(\"enter number\"))\n",
    "print((\"number is even\") if x%2==0 else(print(\"number is ood\")))"
   ]
  },
  {
   "cell_type": "markdown",
   "metadata": {
    "id": "-J3UtjpIjJPv"
   },
   "source": [
    "###5) Write a  program to check whether a year is a leap year or not. (one-line conditional statement).\n"
   ]
  },
  {
   "cell_type": "code",
   "execution_count": 20,
   "metadata": {},
   "outputs": [
    {
     "name": "stdin",
     "output_type": "stream",
     "text": [
      "enter year 2024\n"
     ]
    },
    {
     "name": "stdout",
     "output_type": "stream",
     "text": [
      "Leap year\n"
     ]
    }
   ],
   "source": [
    "year=int(input(\"enter year\"))\n",
    "print(\"Leap year\" if (year % 4 == 0 and year % 100 != 0) or (year % 400 == 0) else \"Not a leap year\")"
   ]
  },
  {
   "cell_type": "markdown",
   "metadata": {
    "id": "JeN4yaIMjNlC"
   },
   "source": [
    "###6) Write a  program to store the weekdays in a list and access the week day and print it by index.\n"
   ]
  },
  {
   "cell_type": "code",
   "execution_count": 41,
   "metadata": {},
   "outputs": [
    {
     "name": "stdin",
     "output_type": "stream",
     "text": [
      "Enter the index of the weekday (0-6):  0\n"
     ]
    },
    {
     "name": "stdout",
     "output_type": "stream",
     "text": [
      "Weekday at index 0 is Saturday\n"
     ]
    }
   ],
   "source": [
    "days= [\"Saturday\", \"Sunday\", \"Monday\", \"Tuesday\", \"Wednesday\", \"Thursday\", \"Friday\"]\n",
    "week_list=int(input(\"Enter the index of the weekday (0-6): \"))\n",
    "if 0 <= week_list < len(days):\n",
    "    print(\"Weekday at index\", week_list, \"is\", days[week_list])\n",
    "else:\n",
    "    print(\"Index out of range. Please enter an index between 0 and\", len(days) - 1)"
   ]
  },
  {
   "cell_type": "markdown",
   "metadata": {
    "id": "ST7uKJmtjYh1"
   },
   "source": [
    "###7) Write a  program to print all alphabets from a to z using while loop"
   ]
  },
  {
   "cell_type": "code",
   "execution_count": 49,
   "metadata": {},
   "outputs": [
    {
     "name": "stdout",
     "output_type": "stream",
     "text": [
      "The Alphabets from A to Z are:\n",
      "A\n",
      "B\n",
      "C\n",
      "D\n",
      "E\n",
      "F\n",
      "G\n",
      "H\n",
      "I\n",
      "J\n",
      "K\n",
      "L\n",
      "M\n",
      "N\n",
      "O\n",
      "P\n",
      "Q\n",
      "R\n",
      "S\n",
      "T\n",
      "U\n",
      "V\n",
      "W\n",
      "X\n",
      "Y\n",
      "Z\n"
     ]
    }
   ],
   "source": [
    "i = 'A'\n",
    "print (\"The Alphabets from A to Z are:\")\n",
    "while ord(i) <= ord('Z'):\n",
    "\tprint (i)\n",
    "\ti = chr(ord(i) + 1)"
   ]
  },
  {
   "cell_type": "markdown",
   "metadata": {
    "id": "PkPPTrivjran"
   },
   "source": [
    "###8)Write a program to store numbers in the List and print its reverse"
   ]
  },
  {
   "cell_type": "code",
   "execution_count": 60,
   "metadata": {},
   "outputs": [
    {
     "name": "stdin",
     "output_type": "stream",
     "text": [
      "Enter numbers 1 2 3 4\n"
     ]
    },
    {
     "name": "stdout",
     "output_type": "stream",
     "text": [
      "Reversed list: [4, 3, 2, 1]\n"
     ]
    }
   ],
   "source": [
    "x=input(\"Enter numbers\")\n",
    "a = x.split()\n",
    "a = [int(num) for num in a]\n",
    "print(\"Reversed list:\", a[::-1])"
   ]
  },
  {
   "cell_type": "markdown",
   "metadata": {
    "id": "2JoHNIaCj7fR"
   },
   "source": [
    "### 9) Write a program to print the multiplcation table of any number"
   ]
  },
  {
   "cell_type": "code",
   "execution_count": 74,
   "metadata": {},
   "outputs": [
    {
     "name": "stdin",
     "output_type": "stream",
     "text": [
      "enter nubmer 5\n"
     ]
    },
    {
     "name": "stdout",
     "output_type": "stream",
     "text": [
      "multiplcation table of number:5*10=50\n",
      "multiplcation table of number:5*9=45\n",
      "multiplcation table of number:5*8=40\n",
      "multiplcation table of number:5*7=35\n",
      "multiplcation table of number:5*6=30\n",
      "multiplcation table of number:5*5=25\n",
      "multiplcation table of number:5*4=20\n",
      "multiplcation table of number:5*3=15\n",
      "multiplcation table of number:5*2=10\n",
      "multiplcation table of number:5*1=5\n",
      "multiplcation table of number:5*0=0\n"
     ]
    }
   ],
   "source": [
    "x=int(input(\"enter nubmer\"))\n",
    "y=11\n",
    "while y>=1:\n",
    "    y-=1\n",
    "    z=x*y\n",
    "    print(f\"multiplcation table of number:{x}*{y}={z}\" )"
   ]
  },
  {
   "cell_type": "markdown",
   "metadata": {
    "id": "WTIX9yh1kLs-"
   },
   "source": [
    "###10)Write a program to print all even numbers between 1 to 100.(using while loop)"
   ]
  },
  {
   "cell_type": "code",
   "execution_count": 78,
   "metadata": {
    "id": "i5fTGY3Qib9Y"
   },
   "outputs": [
    {
     "name": "stdout",
     "output_type": "stream",
     "text": [
      "0 even\n",
      "1 ood\n",
      "2 even\n",
      "3 ood\n",
      "4 even\n",
      "5 ood\n",
      "6 even\n",
      "7 ood\n",
      "8 even\n",
      "9 ood\n",
      "10 even\n",
      "11 ood\n",
      "12 even\n",
      "13 ood\n",
      "14 even\n",
      "15 ood\n",
      "16 even\n",
      "17 ood\n",
      "18 even\n",
      "19 ood\n",
      "20 even\n",
      "21 ood\n",
      "22 even\n",
      "23 ood\n",
      "24 even\n",
      "25 ood\n",
      "26 even\n",
      "27 ood\n",
      "28 even\n",
      "29 ood\n",
      "30 even\n",
      "31 ood\n",
      "32 even\n",
      "33 ood\n",
      "34 even\n",
      "35 ood\n",
      "36 even\n",
      "37 ood\n",
      "38 even\n",
      "39 ood\n",
      "40 even\n",
      "41 ood\n",
      "42 even\n",
      "43 ood\n",
      "44 even\n",
      "45 ood\n",
      "46 even\n",
      "47 ood\n",
      "48 even\n",
      "49 ood\n",
      "50 even\n",
      "51 ood\n",
      "52 even\n",
      "53 ood\n",
      "54 even\n",
      "55 ood\n",
      "56 even\n",
      "57 ood\n",
      "58 even\n",
      "59 ood\n",
      "60 even\n",
      "61 ood\n",
      "62 even\n",
      "63 ood\n",
      "64 even\n",
      "65 ood\n",
      "66 even\n",
      "67 ood\n",
      "68 even\n",
      "69 ood\n",
      "70 even\n",
      "71 ood\n",
      "72 even\n",
      "73 ood\n",
      "74 even\n",
      "75 ood\n",
      "76 even\n",
      "77 ood\n",
      "78 even\n",
      "79 ood\n",
      "80 even\n",
      "81 ood\n",
      "82 even\n",
      "83 ood\n",
      "84 even\n",
      "85 ood\n",
      "86 even\n",
      "87 ood\n",
      "88 even\n",
      "89 ood\n",
      "90 even\n",
      "91 ood\n",
      "92 even\n",
      "93 ood\n",
      "94 even\n",
      "95 ood\n",
      "96 even\n",
      "97 ood\n",
      "98 even\n",
      "99 ood\n",
      "100 even\n"
     ]
    }
   ],
   "source": [
    "i=0\n",
    "while i<=100:\n",
    "    if  i%2==0:\n",
    "        print(i,\"even\")\n",
    "    else:\n",
    "        print(i,\"ood\")\n",
    "    i+=1"
   ]
  }
 ],
 "metadata": {
  "colab": {
   "private_outputs": true,
   "provenance": []
  },
  "kernelspec": {
   "display_name": "Python 3 (ipykernel)",
   "language": "python",
   "name": "python3"
  },
  "language_info": {
   "codemirror_mode": {
    "name": "ipython",
    "version": 3
   },
   "file_extension": ".py",
   "mimetype": "text/x-python",
   "name": "python",
   "nbconvert_exporter": "python",
   "pygments_lexer": "ipython3",
   "version": "3.11.7"
  }
 },
 "nbformat": 4,
 "nbformat_minor": 4
}
